{
 "cells": [
  {
   "cell_type": "code",
   "execution_count": 1,
   "id": "d2dae707",
   "metadata": {},
   "outputs": [],
   "source": [
    "import pyspark # 3.2.0\n",
    "from pyspark.context import SparkContext\n",
    "from pyspark.sql import SparkSession\n",
    "from pyspark.sql.functions import count, desc, col, \\\n",
    "session_window, when\n",
    "from pyspark.sql.types import StringType, TimestampType, \\\n",
    "StructType, StructField\n",
    "\n",
    "import psutil # 5.6.3\n",
    "import platform\n",
    "import os\n",
    "import multiprocessing\n",
    "\n",
    "from time import asctime\n",
    "\n",
    "import statsapi "
   ]
  },
  {
   "cell_type": "code",
   "execution_count": 2,
   "id": "22e636a9",
   "metadata": {},
   "outputs": [
    {
     "name": "stdout",
     "output_type": "stream",
     "text": [
      "approximate start time : Sun May 15 21:38:03 2022\n"
     ]
    }
   ],
   "source": [
    "MAX_MEMORY = '15G'\n",
    "sesh_duration = \"20 minutes\"\n",
    "\n",
    "print(f\"approximate start time : {asctime()}\")"
   ]
  },
  {
   "cell_type": "code",
   "execution_count": 3,
   "id": "163d5d95",
   "metadata": {},
   "outputs": [],
   "source": [
    "conf = pyspark.SparkConf().setMaster(\"local[*]\") \\\n",
    "        .set('spark.executor.heartbeatInterval', 10000) \\\n",
    "        .set('spark.network.timeout', 10000) \\\n",
    "        .set(\"spark.core.connection.ack.wait.timeout\", \"3600\") \\\n",
    "        .set(\"spark.executor.memory\", MAX_MEMORY) \\\n",
    "        .set(\"spark.driver.memory\", MAX_MEMORY)"
   ]
  },
  {
   "cell_type": "code",
   "execution_count": 4,
   "id": "277157bf",
   "metadata": {},
   "outputs": [
    {
     "name": "stderr",
     "output_type": "stream",
     "text": [
      "Using Spark's default log4j profile: org/apache/spark/log4j-defaults.properties\n",
      "Setting default log level to \"WARN\".\n",
      "To adjust logging level use sc.setLogLevel(newLevel). For SparkR, use setLogLevel(newLevel).\n",
      "22/05/15 21:38:07 WARN NativeCodeLoader: Unable to load native-hadoop library for your platform... using builtin-java classes where applicable\n"
     ]
    },
    {
     "name": "stdout",
     "output_type": "stream",
     "text": [
      "CPU times: user 31.5 ms, sys: 27.7 ms, total: 59.2 ms\n",
      "Wall time: 6.71 s\n"
     ]
    }
   ],
   "source": [
    "%%time\n",
    "sc = SparkContext(conf=conf)\n",
    "sc.setLogLevel('WARN')"
   ]
  },
  {
   "cell_type": "code",
   "execution_count": 5,
   "id": "bd697d4d",
   "metadata": {},
   "outputs": [
    {
     "name": "stdout",
     "output_type": "stream",
     "text": [
      "======================================== System Information ========================================\n",
      "System: Darwin\n",
      "Release: 21.4.0\n",
      "Version: Darwin Kernel Version 21.4.0: Fri Mar 18 00:45:05 PDT 2022; root:xnu-8020.101.4~15/RELEASE_X86_64\n",
      "Machine: x86_64\n",
      "Processor: i386\n",
      "Platform: Darwin-21.4.0-x86_64-i386-64bit\n",
      "RAM: 16 GB\n",
      "Cores: 4\n",
      "======================================== Java, Python, Spark Versions ==============================\n",
      "java version \"1.8.0_311\"\n",
      "Java(TM) SE Runtime Environment (build 1.8.0_311-b11)\n",
      "Java HotSpot(TM) 64-Bit Server VM (build 25.311-b11, mixed mode)\n",
      "-----\n",
      "Python 3.7.4\n",
      "-----\n",
      "spark version 3.2.0\n"
     ]
    }
   ],
   "source": [
    "print(\"=\"*40, \"System Information\", \"=\"*40)\n",
    "uname = platform.uname()\n",
    "print(f\"System: {uname.system}\")\n",
    "print(f\"Release: {uname.release}\")\n",
    "print(f\"Version: {uname.version}\")\n",
    "print(f\"Machine: {uname.machine}\")\n",
    "print(f\"Processor: {uname.processor}\")\n",
    "print(f\"Platform: {platform.platform()}\")\n",
    "print(f\"RAM: {str(round(psutil.virtual_memory().total / (1024.0 ** 3)))} GB\")\n",
    "print(f\"Cores: {multiprocessing.cpu_count()}\")\n",
    "\n",
    "print(\"=\"*40, \"Java, Python, Spark Versions\", \"=\"*30)\n",
    "\n",
    "# java version\n",
    "!java -version\n",
    "\n",
    "# python version\n",
    "print(\"-\"*5)\n",
    "!python --version\n",
    "\n",
    "# spark version\n",
    "print(\"-\"*5)\n",
    "print(\"spark version {}\".format(sc.version))"
   ]
  },
  {
   "cell_type": "code",
   "execution_count": 6,
   "id": "bf6f9aaf",
   "metadata": {},
   "outputs": [
    {
     "name": "stdout",
     "output_type": "stream",
     "text": [
      "CPU times: user 5 µs, sys: 1 µs, total: 6 µs\n",
      "Wall time: 11.9 µs\n"
     ]
    }
   ],
   "source": [
    "%%time\n",
    "def init_spark():\n",
    "    spark = SparkSession \\\n",
    "        .builder \\\n",
    "        .appName(\"baseball_is_not_boring\") \\\n",
    "        .config(conf=conf) \\\n",
    "        .getOrCreate()\n",
    "    return spark"
   ]
  },
  {
   "cell_type": "code",
   "execution_count": 7,
   "id": "352e5dc7",
   "metadata": {},
   "outputs": [
    {
     "name": "stdout",
     "output_type": "stream",
     "text": [
      "CPU times: user 66 µs, sys: 88 µs, total: 154 µs\n",
      "Wall time: 159 µs\n"
     ]
    }
   ],
   "source": [
    "%%time\n",
    "schemer = StructType([StructField('name', StringType(), True),\n",
    "                     StructField('name', TimestampType(), True)\n",
    "                     ])"
   ]
  },
  {
   "cell_type": "code",
   "execution_count": null,
   "id": "f31596c5",
   "metadata": {},
   "outputs": [],
   "source": []
  },
  {
   "cell_type": "code",
   "execution_count": null,
   "id": "64efcbb1",
   "metadata": {},
   "outputs": [],
   "source": []
  },
  {
   "cell_type": "code",
   "execution_count": 8,
   "id": "e4f1ff76",
   "metadata": {},
   "outputs": [
    {
     "data": {
      "text/plain": [
       "15"
      ]
     },
     "execution_count": 8,
     "metadata": {},
     "output_type": "execute_result"
    }
   ],
   "source": [
    "len(statsapi.schedule())"
   ]
  },
  {
   "cell_type": "code",
   "execution_count": 9,
   "id": "4a7e616d",
   "metadata": {},
   "outputs": [
    {
     "data": {
      "text/plain": [
       "{'game_id': 661545,\n",
       " 'game_datetime': '2022-05-15T15:35:00Z',\n",
       " 'game_date': '2022-05-15',\n",
       " 'game_type': 'R',\n",
       " 'status': 'Final',\n",
       " 'away_name': 'San Diego Padres',\n",
       " 'home_name': 'Atlanta Braves',\n",
       " 'away_id': 135,\n",
       " 'home_id': 144,\n",
       " 'doubleheader': 'N',\n",
       " 'game_num': 1,\n",
       " 'home_probable_pitcher': 'Kyle Wright',\n",
       " 'away_probable_pitcher': 'Joe Musgrove',\n",
       " 'home_pitcher_note': '',\n",
       " 'away_pitcher_note': '',\n",
       " 'away_score': 7,\n",
       " 'home_score': 3,\n",
       " 'current_inning': 11,\n",
       " 'inning_state': 'Bottom',\n",
       " 'venue_id': 4705,\n",
       " 'venue_name': 'Truist Park',\n",
       " 'winning_team': 'San Diego Padres',\n",
       " 'losing_team': 'Atlanta Braves',\n",
       " 'winning_pitcher': 'Nabil Crismatt',\n",
       " 'losing_pitcher': 'Jackson Stephens',\n",
       " 'save_pitcher': None,\n",
       " 'summary': '2022-05-15 - San Diego Padres (7) @ Atlanta Braves (3) (Final)'}"
      ]
     },
     "execution_count": 9,
     "metadata": {},
     "output_type": "execute_result"
    }
   ],
   "source": [
    "statsapi.schedule()[0]"
   ]
  },
  {
   "cell_type": "code",
   "execution_count": 10,
   "id": "3e2a4abf",
   "metadata": {},
   "outputs": [
    {
     "data": {
      "text/plain": [
       "{'game_id': 661984,\n",
       " 'game_datetime': '2022-05-15T23:08:00Z',\n",
       " 'game_date': '2022-05-15',\n",
       " 'game_type': 'R',\n",
       " 'status': 'Final',\n",
       " 'away_name': 'San Francisco Giants',\n",
       " 'home_name': 'St. Louis Cardinals',\n",
       " 'away_id': 137,\n",
       " 'home_id': 138,\n",
       " 'doubleheader': 'N',\n",
       " 'game_num': 1,\n",
       " 'home_probable_pitcher': 'Adam Wainwright',\n",
       " 'away_probable_pitcher': 'Carlos Rodon',\n",
       " 'home_pitcher_note': '',\n",
       " 'away_pitcher_note': '',\n",
       " 'away_score': 6,\n",
       " 'home_score': 15,\n",
       " 'current_inning': 9,\n",
       " 'inning_state': 'Top',\n",
       " 'venue_id': 2889,\n",
       " 'venue_name': 'Busch Stadium',\n",
       " 'winning_team': 'St. Louis Cardinals',\n",
       " 'losing_team': 'San Francisco Giants',\n",
       " 'winning_pitcher': 'Adam Wainwright',\n",
       " 'losing_pitcher': 'Carlos Rodon',\n",
       " 'save_pitcher': None,\n",
       " 'summary': '2022-05-15 - San Francisco Giants (6) @ St. Louis Cardinals (15) (Final)'}"
      ]
     },
     "execution_count": 10,
     "metadata": {},
     "output_type": "execute_result"
    }
   ],
   "source": [
    "statsapi.schedule()[-1]"
   ]
  },
  {
   "cell_type": "code",
   "execution_count": 11,
   "id": "94ef74c3",
   "metadata": {},
   "outputs": [],
   "source": [
    "player = 'Anthony Gose'"
   ]
  },
  {
   "cell_type": "code",
   "execution_count": 12,
   "id": "ca67b5c9",
   "metadata": {},
   "outputs": [],
   "source": [
    "data = statsapi.lookup_player(player)"
   ]
  },
  {
   "cell_type": "code",
   "execution_count": 13,
   "id": "d0098aaf",
   "metadata": {},
   "outputs": [
    {
     "data": {
      "text/plain": [
       "{'id': 543238,\n",
       " 'fullName': 'Anthony Gose',\n",
       " 'firstName': 'Anthony',\n",
       " 'lastName': 'Gose',\n",
       " 'primaryNumber': '26',\n",
       " 'currentTeam': {'id': 114},\n",
       " 'primaryPosition': {'code': '1', 'abbreviation': 'P'},\n",
       " 'useName': 'Anthony',\n",
       " 'boxscoreName': 'Gose',\n",
       " 'mlbDebutDate': '2012-07-17',\n",
       " 'nameFirstLast': 'Anthony Gose',\n",
       " 'firstLastName': 'Anthony Gose',\n",
       " 'lastFirstName': 'Gose, Anthony',\n",
       " 'lastInitName': 'Gose, A',\n",
       " 'initLastName': 'A Gose',\n",
       " 'fullFMLName': 'Anthony Robert Gose',\n",
       " 'fullLFMName': 'Gose, Anthony Robert'}"
      ]
     },
     "execution_count": 13,
     "metadata": {},
     "output_type": "execute_result"
    }
   ],
   "source": [
    "data[0]"
   ]
  },
  {
   "cell_type": "code",
   "execution_count": 14,
   "id": "176b7a4f",
   "metadata": {},
   "outputs": [
    {
     "data": {
      "text/plain": [
       "{'id': 543238,\n",
       " 'first_name': 'Anthony',\n",
       " 'last_name': 'Gose',\n",
       " 'active': True,\n",
       " 'current_team': 'Cleveland Guardians',\n",
       " 'position': 'P',\n",
       " 'nickname': None,\n",
       " 'last_played': None,\n",
       " 'mlb_debut': '2012-07-17',\n",
       " 'bat_side': 'Left',\n",
       " 'pitch_hand': 'Left',\n",
       " 'stats': [{'type': 'season',\n",
       "   'group': 'pitching',\n",
       "   'season': '2022',\n",
       "   'stats': {'gamesPlayed': 11,\n",
       "    'gamesStarted': 0,\n",
       "    'groundOuts': 5,\n",
       "    'airOuts': 11,\n",
       "    'runs': 7,\n",
       "    'doubles': 4,\n",
       "    'triples': 0,\n",
       "    'homeRuns': 2,\n",
       "    'strikeOuts': 14,\n",
       "    'baseOnBalls': 6,\n",
       "    'intentionalWalks': 0,\n",
       "    'hits': 8,\n",
       "    'hitByPitch': 1,\n",
       "    'avg': '.216',\n",
       "    'atBats': 37,\n",
       "    'obp': '.333',\n",
       "    'slg': '.486',\n",
       "    'ops': '.819',\n",
       "    'caughtStealing': 0,\n",
       "    'stolenBases': 0,\n",
       "    'stolenBasePercentage': '.---',\n",
       "    'groundIntoDoublePlay': 1,\n",
       "    'numberOfPitches': 188,\n",
       "    'era': '5.23',\n",
       "    'inningsPitched': '10.1',\n",
       "    'wins': 1,\n",
       "    'losses': 0,\n",
       "    'saves': 0,\n",
       "    'saveOpportunities': 1,\n",
       "    'holds': 0,\n",
       "    'blownSaves': 1,\n",
       "    'earnedRuns': 6,\n",
       "    'whip': '1.35',\n",
       "    'battersFaced': 45,\n",
       "    'outs': 31,\n",
       "    'gamesPitched': 11,\n",
       "    'completeGames': 0,\n",
       "    'shutouts': 0,\n",
       "    'strikes': 115,\n",
       "    'strikePercentage': '.610',\n",
       "    'hitBatsmen': 1,\n",
       "    'balks': 0,\n",
       "    'wildPitches': 2,\n",
       "    'pickoffs': 0,\n",
       "    'totalBases': 18,\n",
       "    'groundOutsToAirouts': '0.45',\n",
       "    'winPercentage': '1.000',\n",
       "    'pitchesPerInning': '18.19',\n",
       "    'gamesFinished': 1,\n",
       "    'strikeoutWalkRatio': '2.33',\n",
       "    'strikeoutsPer9Inn': '12.19',\n",
       "    'walksPer9Inn': '5.23',\n",
       "    'hitsPer9Inn': '6.97',\n",
       "    'runsScoredPer9': '6.10',\n",
       "    'homeRunsPer9': '1.74',\n",
       "    'inheritedRunners': 2,\n",
       "    'inheritedRunnersScored': 1,\n",
       "    'catchersInterference': 0,\n",
       "    'sacBunts': 0,\n",
       "    'sacFlies': 1}},\n",
       "  {'type': 'season',\n",
       "   'group': 'fielding',\n",
       "   'season': '2022',\n",
       "   'stats': {'assists': 0,\n",
       "    'putOuts': 1,\n",
       "    'errors': 0,\n",
       "    'chances': 1,\n",
       "    'fielding': '1.000',\n",
       "    'position': {'code': '1',\n",
       "     'name': 'Pitcher',\n",
       "     'type': 'Pitcher',\n",
       "     'abbreviation': 'P'},\n",
       "    'rangeFactorPerGame': '0.09',\n",
       "    'rangeFactorPer9Inn': '0.90',\n",
       "    'innings': '10.1',\n",
       "    'games': 11,\n",
       "    'gamesStarted': 0,\n",
       "    'doublePlays': 0,\n",
       "    'triplePlays': 0,\n",
       "    'throwingErrors': 0}}]}"
      ]
     },
     "execution_count": 14,
     "metadata": {},
     "output_type": "execute_result"
    }
   ],
   "source": [
    "pid = statsapi.lookup_player(player)[0]['id']\n",
    "statsapi.player_stat_data(pid)"
   ]
  },
  {
   "cell_type": "code",
   "execution_count": 15,
   "id": "5d7c1033",
   "metadata": {},
   "outputs": [
    {
     "data": {
      "text/plain": [
       "\"\\nwhat are the batting averages for some of the top players top player \\nper team or top 3 players from dodgers, cubs, sox, angels, and a's\\n\""
      ]
     },
     "execution_count": 15,
     "metadata": {},
     "output_type": "execute_result"
    }
   ],
   "source": [
    "\"\"\"\n",
    "what are the batting averages for some of the top players top player \n",
    "per team or top 3 players from dodgers, cubs, sox, angels, and a's\n",
    "\"\"\""
   ]
  },
  {
   "cell_type": "code",
   "execution_count": 16,
   "id": "4d872146",
   "metadata": {},
   "outputs": [],
   "source": [
    "team_idxs = [] #wth\n",
    "teams = []\n",
    "\n",
    "for idx in range(0, 1000):\n",
    "    try:\n",
    "        idx = str(idx).zfill(3)\n",
    "        data = statsapi.lookup_team(idx)[0]\n",
    "        name = data['name'].lower()\n",
    "        location = data['locationName'].lower()\n",
    "        if 'dogder' in name or 'angel' in name or 'cub' in name or 'sox' in name or 'oakland' in location:\n",
    "            teams.append(data)\n",
    "        team_idxs.append(idx)\n",
    "        if len(teams) == 6:\n",
    "            break\n",
    "    except Exception as exp:\n",
    "        None"
   ]
  },
  {
   "cell_type": "code",
   "execution_count": 17,
   "id": "50dc1f05",
   "metadata": {},
   "outputs": [
    {
     "data": {
      "text/plain": [
       "[{'id': 108,\n",
       "  'name': 'Los Angeles Angels',\n",
       "  'teamCode': 'ana',\n",
       "  'fileCode': 'ana',\n",
       "  'teamName': 'Angels',\n",
       "  'locationName': 'Anaheim',\n",
       "  'shortName': 'LA Angels'},\n",
       " {'id': 111,\n",
       "  'name': 'Boston Red Sox',\n",
       "  'teamCode': 'bos',\n",
       "  'fileCode': 'bos',\n",
       "  'teamName': 'Red Sox',\n",
       "  'locationName': 'Boston',\n",
       "  'shortName': 'Boston'},\n",
       " {'id': 112,\n",
       "  'name': 'Chicago Cubs',\n",
       "  'teamCode': 'chn',\n",
       "  'fileCode': 'chc',\n",
       "  'teamName': 'Cubs',\n",
       "  'locationName': 'Chicago',\n",
       "  'shortName': 'Chi Cubs'},\n",
       " {'id': 119,\n",
       "  'name': 'Los Angeles Dodgers',\n",
       "  'teamCode': 'lan',\n",
       "  'fileCode': 'la',\n",
       "  'teamName': 'Dodgers',\n",
       "  'locationName': 'Los Angeles',\n",
       "  'shortName': 'LA Dodgers'},\n",
       " {'id': 133,\n",
       "  'name': 'Oakland Athletics',\n",
       "  'teamCode': 'oak',\n",
       "  'fileCode': 'oak',\n",
       "  'teamName': 'Athletics',\n",
       "  'locationName': 'Oakland',\n",
       "  'shortName': 'Oakland'},\n",
       " {'id': 145,\n",
       "  'name': 'Chicago White Sox',\n",
       "  'teamCode': 'cha',\n",
       "  'fileCode': 'cws',\n",
       "  'teamName': 'White Sox',\n",
       "  'locationName': 'Chicago',\n",
       "  'shortName': 'Chi White Sox'}]"
      ]
     },
     "execution_count": 17,
     "metadata": {},
     "output_type": "execute_result"
    }
   ],
   "source": [
    "teams"
   ]
  },
  {
   "cell_type": "code",
   "execution_count": 18,
   "id": "a5960bca",
   "metadata": {},
   "outputs": [
    {
     "data": {
      "text/plain": [
       "'Rank Name                 Value\\n 1   Owen Miller          .298 \\n 2   Jose Ramirez         .290 \\n 3   Steven Kwan          .281 \\n 4   Myles Straw          .242 \\n 5   Amed Rosario         .239 \\n 6   Franmil Reyes        .207 \\n'"
      ]
     },
     "execution_count": 18,
     "metadata": {},
     "output_type": "execute_result"
    }
   ],
   "source": [
    "statsapi.team_leaders(114, 'avg')"
   ]
  },
  {
   "cell_type": "code",
   "execution_count": 19,
   "id": "de6dbc3d",
   "metadata": {},
   "outputs": [],
   "source": [
    "def get_tings(team_id, scategory):\n",
    "    \"\"\"\n",
    "    it's ugly but it worx\n",
    "    \"\"\"\n",
    "    leaders = statsapi.team_leaders(team_id, scategory)\n",
    "\n",
    "    data = [\"\".join(item.split(\"\\n\")).strip(\" \") for item in leaders.split(\"  \") if item != \"\"][2:]\n",
    "    data\n",
    "\n",
    "    idx = 0\n",
    "    tings = {}\n",
    "    while idx != len(data):\n",
    "        tings[data[idx]] = data[idx + 1]\n",
    "        idx += 2\n",
    "\n",
    "    new_tings = {}\n",
    "\n",
    "    for whatever in tings.items():\n",
    "        new_tings[whatever[0]] = whatever[1].split(\" \")[0]\n",
    "        \n",
    "    return new_tings"
   ]
  },
  {
   "cell_type": "code",
   "execution_count": 20,
   "id": "53354d6d",
   "metadata": {},
   "outputs": [],
   "source": [
    "for team in teams:\n",
    "    team_id = team['id']\n",
    "#    team['stolenBase_leaders'] = get_tings(team_id, 'stolenBases')\n",
    "    team['avg_leaders'] = get_tings(team_id, 'avg')"
   ]
  },
  {
   "cell_type": "code",
   "execution_count": 21,
   "id": "19cb9ee3",
   "metadata": {},
   "outputs": [
    {
     "data": {
      "text/plain": [
       "[{'id': 108,\n",
       "  'name': 'Los Angeles Angels',\n",
       "  'teamCode': 'ana',\n",
       "  'fileCode': 'ana',\n",
       "  'teamName': 'Angels',\n",
       "  'locationName': 'Anaheim',\n",
       "  'shortName': 'LA Angels',\n",
       "  'avg_leaders': {'Mike Trout': '.312',\n",
       "   'Brandon Marsh': '.284',\n",
       "   'Shohei Ohtani': '.257',\n",
       "   'Jared Walsh': '.240',\n",
       "   'Anthony Rendon': '.227'}},\n",
       " {'id': 111,\n",
       "  'name': 'Boston Red Sox',\n",
       "  'teamCode': 'bos',\n",
       "  'fileCode': 'bos',\n",
       "  'teamName': 'Red Sox',\n",
       "  'locationName': 'Boston',\n",
       "  'shortName': 'Boston',\n",
       "  'avg_leaders': {'Xander Bogaerts': '.344',\n",
       "   'Rafael Devers': '.324',\n",
       "   'J.D. Martinez': '.314',\n",
       "   'Alex Verdugo': '.212',\n",
       "   'Jackie Bradley Jr.': '.202',\n",
       "   'Trevor Story': '.196',\n",
       "   'Enrique Hernandez': '.169'}},\n",
       " {'id': 112,\n",
       "  'name': 'Chicago Cubs',\n",
       "  'teamCode': 'chn',\n",
       "  'fileCode': 'chc',\n",
       "  'teamName': 'Cubs',\n",
       "  'locationName': 'Chicago',\n",
       "  'shortName': 'Chi Cubs',\n",
       "  'avg_leaders': {'Willson Contreras': '.277',\n",
       "   'Ian Happ': '.260',\n",
       "   'Seiya Suzuki': '.257',\n",
       "   'Patrick Wisdom': '.224',\n",
       "   'Frank Schwindel': '.218'}},\n",
       " {'id': 119,\n",
       "  'name': 'Los Angeles Dodgers',\n",
       "  'teamCode': 'lan',\n",
       "  'fileCode': 'la',\n",
       "  'teamName': 'Dodgers',\n",
       "  'locationName': 'Los Angeles',\n",
       "  'shortName': 'LA Dodgers',\n",
       "  'avg_leaders': {'Freddie Freeman': '.295',\n",
       "   'Trea Turner': '.273',\n",
       "   'Chris Taylor': '.255',\n",
       "   'Mookie Betts': '.254',\n",
       "   'Gavin Lux': '.250',\n",
       "   'Justin Turner': '.205',\n",
       "   'Cody Bellinger': '.202',\n",
       "   'Max Muncy': '.150'}},\n",
       " {'id': 133,\n",
       "  'name': 'Oakland Athletics',\n",
       "  'teamCode': 'oak',\n",
       "  'fileCode': 'oak',\n",
       "  'teamName': 'Athletics',\n",
       "  'locationName': 'Oakland',\n",
       "  'shortName': 'Oakland',\n",
       "  'avg_leaders': {'Sheldon Neuse': '.281',\n",
       "   'Elvis Andrus': '.219',\n",
       "   'Tony Kemp': '.212',\n",
       "   'Sean Murphy': '.192',\n",
       "   'Cristian Pache': '.157'}},\n",
       " {'id': 145,\n",
       "  'name': 'Chicago White Sox',\n",
       "  'teamCode': 'cha',\n",
       "  'fileCode': 'cws',\n",
       "  'teamName': 'White Sox',\n",
       "  'locationName': 'Chicago',\n",
       "  'shortName': 'Chi White Sox',\n",
       "  'avg_leaders': {'Tim Anderson': '.336',\n",
       "   'Luis Robert': '.304',\n",
       "   'Jose Abreu': '.197',\n",
       "   'Yasmani Grandal': '.165'}}]"
      ]
     },
     "execution_count": 21,
     "metadata": {},
     "output_type": "execute_result"
    }
   ],
   "source": [
    "teams"
   ]
  }
 ],
 "metadata": {
  "kernelspec": {
   "display_name": "Python 3 (ipykernel)",
   "language": "python",
   "name": "python3"
  },
  "language_info": {
   "codemirror_mode": {
    "name": "ipython",
    "version": 3
   },
   "file_extension": ".py",
   "mimetype": "text/x-python",
   "name": "python",
   "nbconvert_exporter": "python",
   "pygments_lexer": "ipython3",
   "version": "3.7.4"
  }
 },
 "nbformat": 4,
 "nbformat_minor": 5
}
