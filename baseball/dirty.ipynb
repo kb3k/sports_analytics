{
 "cells": [
  {
   "cell_type": "code",
   "execution_count": 1,
   "id": "d6873e65",
   "metadata": {},
   "outputs": [],
   "source": [
    "import pyspark # 3.2.0\n",
    "from pyspark.context import SparkContext\n",
    "from pyspark.sql import SparkSession\n",
    "from pyspark.sql.functions import count, desc, col, \\\n",
    "session_window, when\n",
    "from pyspark.sql.types import StringType, TimestampType, \\\n",
    "StructType, StructField\n",
    "\n",
    "import psutil # 5.6.3\n",
    "import platform\n",
    "import os\n",
    "import multiprocessing\n",
    "\n",
    "from time import asctime\n",
    "\n",
    "import statsapi "
   ]
  },
  {
   "cell_type": "code",
   "execution_count": 2,
   "id": "daf2c7ba",
   "metadata": {},
   "outputs": [
    {
     "name": "stdout",
     "output_type": "stream",
     "text": [
      "approximate start time : Thu May 12 21:57:08 2022\n"
     ]
    }
   ],
   "source": [
    "MAX_MEMORY = '15G'\n",
    "sesh_duration = \"20 minutes\"\n",
    "\n",
    "print(f\"approximate start time : {asctime()}\")"
   ]
  },
  {
   "cell_type": "code",
   "execution_count": 3,
   "id": "73aacecb",
   "metadata": {},
   "outputs": [],
   "source": [
    "conf = pyspark.SparkConf().setMaster(\"local[*]\") \\\n",
    "        .set('spark.executor.heartbeatInterval', 10000) \\\n",
    "        .set('spark.network.timeout', 10000) \\\n",
    "        .set(\"spark.core.connection.ack.wait.timeout\", \"3600\") \\\n",
    "        .set(\"spark.executor.memory\", MAX_MEMORY) \\\n",
    "        .set(\"spark.driver.memory\", MAX_MEMORY)"
   ]
  },
  {
   "cell_type": "code",
   "execution_count": 4,
   "id": "5e348a99",
   "metadata": {},
   "outputs": [
    {
     "name": "stderr",
     "output_type": "stream",
     "text": [
      "Using Spark's default log4j profile: org/apache/spark/log4j-defaults.properties\n",
      "Setting default log level to \"WARN\".\n",
      "To adjust logging level use sc.setLogLevel(newLevel). For SparkR, use setLogLevel(newLevel).\n",
      "22/05/12 21:57:11 WARN NativeCodeLoader: Unable to load native-hadoop library for your platform... using builtin-java classes where applicable\n"
     ]
    },
    {
     "name": "stdout",
     "output_type": "stream",
     "text": [
      "CPU times: user 27.4 ms, sys: 23.6 ms, total: 51 ms\n",
      "Wall time: 4.11 s\n"
     ]
    }
   ],
   "source": [
    "%%time\n",
    "sc = SparkContext(conf=conf)\n",
    "sc.setLogLevel('WARN')"
   ]
  },
  {
   "cell_type": "code",
   "execution_count": 5,
   "id": "dcba0bea",
   "metadata": {},
   "outputs": [
    {
     "name": "stdout",
     "output_type": "stream",
     "text": [
      "======================================== System Information ========================================\n",
      "System: Darwin\n",
      "Release: 21.4.0\n",
      "Version: Darwin Kernel Version 21.4.0: Fri Mar 18 00:45:05 PDT 2022; root:xnu-8020.101.4~15/RELEASE_X86_64\n",
      "Machine: x86_64\n",
      "Processor: i386\n",
      "Platform: Darwin-21.4.0-x86_64-i386-64bit\n",
      "RAM: 16 GB\n",
      "Cores: 4\n",
      "======================================== Java, Python, Spark Versions ==============================\n",
      "java version \"1.8.0_311\"\n",
      "Java(TM) SE Runtime Environment (build 1.8.0_311-b11)\n",
      "Java HotSpot(TM) 64-Bit Server VM (build 25.311-b11, mixed mode)\n",
      "-----\n",
      "Python 3.7.4\n",
      "-----\n",
      "spark version 3.2.0\n"
     ]
    }
   ],
   "source": [
    "print(\"=\"*40, \"System Information\", \"=\"*40)\n",
    "uname = platform.uname()\n",
    "print(f\"System: {uname.system}\")\n",
    "print(f\"Release: {uname.release}\")\n",
    "print(f\"Version: {uname.version}\")\n",
    "print(f\"Machine: {uname.machine}\")\n",
    "print(f\"Processor: {uname.processor}\")\n",
    "print(f\"Platform: {platform.platform()}\")\n",
    "print(f\"RAM: {str(round(psutil.virtual_memory().total / (1024.0 ** 3)))} GB\")\n",
    "print(f\"Cores: {multiprocessing.cpu_count()}\")\n",
    "\n",
    "print(\"=\"*40, \"Java, Python, Spark Versions\", \"=\"*30)\n",
    "\n",
    "# java version\n",
    "!java -version\n",
    "\n",
    "# python version\n",
    "print(\"-\"*5)\n",
    "!python --version\n",
    "\n",
    "# spark version\n",
    "print(\"-\"*5)\n",
    "print(\"spark version {}\".format(sc.version))"
   ]
  },
  {
   "cell_type": "code",
   "execution_count": 6,
   "id": "7ddd06ed",
   "metadata": {},
   "outputs": [
    {
     "name": "stdout",
     "output_type": "stream",
     "text": [
      "CPU times: user 6 µs, sys: 3 µs, total: 9 µs\n",
      "Wall time: 17.2 µs\n"
     ]
    }
   ],
   "source": [
    "%%time\n",
    "def init_spark():\n",
    "    spark = SparkSession \\\n",
    "        .builder \\\n",
    "        .appName(\"baseball_is_not_boring\") \\\n",
    "        .config(conf=conf) \\\n",
    "        .getOrCreate()\n",
    "    return spark"
   ]
  },
  {
   "cell_type": "code",
   "execution_count": 7,
   "id": "0a2d44ff",
   "metadata": {},
   "outputs": [
    {
     "name": "stdout",
     "output_type": "stream",
     "text": [
      "CPU times: user 76 µs, sys: 114 µs, total: 190 µs\n",
      "Wall time: 208 µs\n"
     ]
    }
   ],
   "source": [
    "%%time\n",
    "schemer = StructType([StructField('name', StringType(), True),\n",
    "                     StructField('name', TimestampType(), True)\n",
    "                     ])"
   ]
  },
  {
   "cell_type": "code",
   "execution_count": null,
   "id": "5028f52e",
   "metadata": {},
   "outputs": [],
   "source": [
    "!head -1 "
   ]
  },
  {
   "cell_type": "code",
   "execution_count": null,
   "id": "a18450c5",
   "metadata": {},
   "outputs": [],
   "source": []
  },
  {
   "cell_type": "code",
   "execution_count": null,
   "id": "9265010e",
   "metadata": {},
   "outputs": [],
   "source": []
  },
  {
   "cell_type": "code",
   "execution_count": null,
   "id": "2a3229d9",
   "metadata": {},
   "outputs": [],
   "source": [
    "len(statsapi.schedule())"
   ]
  },
  {
   "cell_type": "code",
   "execution_count": null,
   "id": "17d8a032",
   "metadata": {},
   "outputs": [],
   "source": [
    "statsapi.schedule()[0]"
   ]
  },
  {
   "cell_type": "code",
   "execution_count": null,
   "id": "35b113dd",
   "metadata": {},
   "outputs": [],
   "source": [
    "statsapi.schedule()[-1]"
   ]
  },
  {
   "cell_type": "code",
   "execution_count": null,
   "id": "7115f7ac",
   "metadata": {},
   "outputs": [],
   "source": [
    "player = 'Anthony Gose'"
   ]
  },
  {
   "cell_type": "code",
   "execution_count": null,
   "id": "5e30354b",
   "metadata": {},
   "outputs": [],
   "source": [
    "data = statsapi.lookup_player(player)"
   ]
  },
  {
   "cell_type": "code",
   "execution_count": null,
   "id": "fd2f5cb2",
   "metadata": {},
   "outputs": [],
   "source": [
    "data[0]"
   ]
  },
  {
   "cell_type": "code",
   "execution_count": null,
   "id": "863642d5",
   "metadata": {},
   "outputs": [],
   "source": [
    "# pid = statsapi.lookup_player(player)[0]['id']"
   ]
  },
  {
   "cell_type": "code",
   "execution_count": null,
   "id": "2fc06d49",
   "metadata": {},
   "outputs": [],
   "source": [
    "# statsapi.player_stat_data(pid)"
   ]
  },
  {
   "cell_type": "code",
   "execution_count": null,
   "id": "2d5f5ac7",
   "metadata": {},
   "outputs": [],
   "source": [
    "\"\"\"\n",
    "what are the batting averages for some of the top players top player \n",
    "per team or top 3 players from dodgers, cubs, sox, angels, and a's\n",
    "\"\"\""
   ]
  },
  {
   "cell_type": "code",
   "execution_count": null,
   "id": "98b7ab87",
   "metadata": {},
   "outputs": [],
   "source": [
    "team_idxs = []\n",
    "teams = []\n",
    "\n",
    "for idx in range(0, 1000):\n",
    "    try:\n",
    "        idx = str(idx).zfill(3)\n",
    "        data = statsapi.lookup_team(idx)[0]\n",
    "        name = data['name'].lower()\n",
    "        location = data['locationName'].lower()\n",
    "        if 'dogder' in name or 'angel' in name or 'cub' in name or 'sox' in name or 'oakland' in location:\n",
    "            teams.append(data)\n",
    "        team_idxs.append(idx)\n",
    "        if len(teams) == 6:\n",
    "            break\n",
    "    except Exception as exp:\n",
    "        None"
   ]
  },
  {
   "cell_type": "code",
   "execution_count": null,
   "id": "8991fb1a",
   "metadata": {},
   "outputs": [],
   "source": [
    "teams"
   ]
  },
  {
   "cell_type": "code",
   "execution_count": null,
   "id": "da355a7d",
   "metadata": {},
   "outputs": [],
   "source": [
    "for team in teams:\n",
    "    team_id = team['id']\n",
    "    team['stolenBase_leaders'] = statsapi.team_leaders(team_id, 'stolenBases')\n",
    "    team['avg_leaders'] = statsapi.team_leaders(team_id, 'avg')"
   ]
  },
  {
   "cell_type": "code",
   "execution_count": null,
   "id": "40217aff",
   "metadata": {},
   "outputs": [],
   "source": [
    "statsapi.team_leaders(114, 'avg')"
   ]
  },
  {
   "cell_type": "code",
   "execution_count": null,
   "id": "bf0bd65f",
   "metadata": {},
   "outputs": [],
   "source": [
    "data = statsapi.team_leaders(114, 'avg')\n",
    "data"
   ]
  },
  {
   "cell_type": "code",
   "execution_count": null,
   "id": "8dcca9cf",
   "metadata": {},
   "outputs": [],
   "source": [
    "data = [\"\".join(item.split(\"\\n\")).strip(\" \") for item in data.split(\"  \") if item != \"\"][2:]\n",
    "data"
   ]
  },
  {
   "cell_type": "code",
   "execution_count": null,
   "id": "7b01aed5",
   "metadata": {},
   "outputs": [],
   "source": [
    "idx = 0\n",
    "tings = {}\n",
    "while idx != len(data):\n",
    "    tings[data[idx]] = data[idx + 1]\n",
    "    idx += 2"
   ]
  },
  {
   "cell_type": "code",
   "execution_count": null,
   "id": "d74ec7ae",
   "metadata": {},
   "outputs": [],
   "source": [
    "tings"
   ]
  },
  {
   "cell_type": "code",
   "execution_count": null,
   "id": "67e9063e",
   "metadata": {},
   "outputs": [],
   "source": [
    "new_tings = {}\n",
    "\n",
    "for whatever in tings.items():\n",
    "    new_tings[whatever[0]] = whatever[1].split(\" \")[0]\n",
    "    print(whatever)"
   ]
  },
  {
   "cell_type": "code",
   "execution_count": null,
   "id": "b2331af0",
   "metadata": {},
   "outputs": [],
   "source": [
    "new_tings"
   ]
  },
  {
   "cell_type": "code",
   "execution_count": null,
   "id": "3189cc29",
   "metadata": {},
   "outputs": [],
   "source": [
    "teams"
   ]
  }
 ],
 "metadata": {
  "kernelspec": {
   "display_name": "Python 3 (ipykernel)",
   "language": "python",
   "name": "python3"
  },
  "language_info": {
   "codemirror_mode": {
    "name": "ipython",
    "version": 3
   },
   "file_extension": ".py",
   "mimetype": "text/x-python",
   "name": "python",
   "nbconvert_exporter": "python",
   "pygments_lexer": "ipython3",
   "version": "3.7.4"
  }
 },
 "nbformat": 4,
 "nbformat_minor": 5
}
