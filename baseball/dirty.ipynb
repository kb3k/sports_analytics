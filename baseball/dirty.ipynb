{
 "cells": [
  {
   "cell_type": "code",
   "execution_count": 1,
   "id": "4ca92613",
   "metadata": {},
   "outputs": [],
   "source": [
    "import pyspark # 3.2.0\n",
    "from pyspark.context import SparkContext\n",
    "from pyspark.sql import SparkSession\n",
    "from pyspark.sql.functions import count, desc, col, \\\n",
    "session_window, when\n",
    "from pyspark.sql.types import StringType, TimestampType, \\\n",
    "StructType, StructField\n",
    "\n",
    "import psutil # 5.6.3\n",
    "import platform\n",
    "import os\n",
    "import multiprocessing\n",
    "\n",
    "from time import asctime\n",
    "\n",
    "import statsapi "
   ]
  },
  {
   "cell_type": "code",
   "execution_count": 2,
   "id": "2ea8355f",
   "metadata": {},
   "outputs": [
    {
     "name": "stdout",
     "output_type": "stream",
     "text": [
      "approximate start time : Thu May 12 22:03:35 2022\n"
     ]
    }
   ],
   "source": [
    "MAX_MEMORY = '15G'\n",
    "sesh_duration = \"20 minutes\"\n",
    "\n",
    "print(f\"approximate start time : {asctime()}\")"
   ]
  },
  {
   "cell_type": "code",
   "execution_count": 3,
   "id": "b9c78898",
   "metadata": {},
   "outputs": [],
   "source": [
    "conf = pyspark.SparkConf().setMaster(\"local[*]\") \\\n",
    "        .set('spark.executor.heartbeatInterval', 10000) \\\n",
    "        .set('spark.network.timeout', 10000) \\\n",
    "        .set(\"spark.core.connection.ack.wait.timeout\", \"3600\") \\\n",
    "        .set(\"spark.executor.memory\", MAX_MEMORY) \\\n",
    "        .set(\"spark.driver.memory\", MAX_MEMORY)"
   ]
  },
  {
   "cell_type": "code",
   "execution_count": 4,
   "id": "061f28d6",
   "metadata": {},
   "outputs": [
    {
     "name": "stderr",
     "output_type": "stream",
     "text": [
      "Using Spark's default log4j profile: org/apache/spark/log4j-defaults.properties\n",
      "Setting default log level to \"WARN\".\n",
      "To adjust logging level use sc.setLogLevel(newLevel). For SparkR, use setLogLevel(newLevel).\n",
      "22/05/12 22:03:38 WARN NativeCodeLoader: Unable to load native-hadoop library for your platform... using builtin-java classes where applicable\n"
     ]
    },
    {
     "name": "stdout",
     "output_type": "stream",
     "text": [
      "CPU times: user 28.6 ms, sys: 23.3 ms, total: 52 ms\n",
      "Wall time: 4.83 s\n"
     ]
    }
   ],
   "source": [
    "%%time\n",
    "sc = SparkContext(conf=conf)\n",
    "sc.setLogLevel('WARN')"
   ]
  },
  {
   "cell_type": "code",
   "execution_count": 5,
   "id": "c9356f6b",
   "metadata": {},
   "outputs": [
    {
     "name": "stdout",
     "output_type": "stream",
     "text": [
      "======================================== System Information ========================================\n",
      "System: Darwin\n",
      "Release: 21.4.0\n",
      "Version: Darwin Kernel Version 21.4.0: Fri Mar 18 00:45:05 PDT 2022; root:xnu-8020.101.4~15/RELEASE_X86_64\n",
      "Machine: x86_64\n",
      "Processor: i386\n",
      "Platform: Darwin-21.4.0-x86_64-i386-64bit\n",
      "RAM: 16 GB\n",
      "Cores: 4\n",
      "======================================== Java, Python, Spark Versions ==============================\n",
      "java version \"1.8.0_311\"\n",
      "Java(TM) SE Runtime Environment (build 1.8.0_311-b11)\n",
      "Java HotSpot(TM) 64-Bit Server VM (build 25.311-b11, mixed mode)\n",
      "-----\n",
      "Python 3.7.4\n",
      "-----\n",
      "spark version 3.2.0\n"
     ]
    }
   ],
   "source": [
    "print(\"=\"*40, \"System Information\", \"=\"*40)\n",
    "uname = platform.uname()\n",
    "print(f\"System: {uname.system}\")\n",
    "print(f\"Release: {uname.release}\")\n",
    "print(f\"Version: {uname.version}\")\n",
    "print(f\"Machine: {uname.machine}\")\n",
    "print(f\"Processor: {uname.processor}\")\n",
    "print(f\"Platform: {platform.platform()}\")\n",
    "print(f\"RAM: {str(round(psutil.virtual_memory().total / (1024.0 ** 3)))} GB\")\n",
    "print(f\"Cores: {multiprocessing.cpu_count()}\")\n",
    "\n",
    "print(\"=\"*40, \"Java, Python, Spark Versions\", \"=\"*30)\n",
    "\n",
    "# java version\n",
    "!java -version\n",
    "\n",
    "# python version\n",
    "print(\"-\"*5)\n",
    "!python --version\n",
    "\n",
    "# spark version\n",
    "print(\"-\"*5)\n",
    "print(\"spark version {}\".format(sc.version))"
   ]
  },
  {
   "cell_type": "code",
   "execution_count": 6,
   "id": "ec333a6b",
   "metadata": {},
   "outputs": [
    {
     "name": "stdout",
     "output_type": "stream",
     "text": [
      "CPU times: user 4 µs, sys: 1e+03 ns, total: 5 µs\n",
      "Wall time: 7.87 µs\n"
     ]
    }
   ],
   "source": [
    "%%time\n",
    "def init_spark():\n",
    "    spark = SparkSession \\\n",
    "        .builder \\\n",
    "        .appName(\"baseball_is_not_boring\") \\\n",
    "        .config(conf=conf) \\\n",
    "        .getOrCreate()\n",
    "    return spark"
   ]
  },
  {
   "cell_type": "code",
   "execution_count": 7,
   "id": "708565b2",
   "metadata": {},
   "outputs": [
    {
     "name": "stdout",
     "output_type": "stream",
     "text": [
      "CPU times: user 69 µs, sys: 58 µs, total: 127 µs\n",
      "Wall time: 136 µs\n"
     ]
    }
   ],
   "source": [
    "%%time\n",
    "schemer = StructType([StructField('name', StringType(), True),\n",
    "                     StructField('name', TimestampType(), True)\n",
    "                     ])"
   ]
  },
  {
   "cell_type": "code",
   "execution_count": null,
   "id": "5052a283",
   "metadata": {},
   "outputs": [],
   "source": []
  },
  {
   "cell_type": "code",
   "execution_count": null,
   "id": "6c56ae56",
   "metadata": {},
   "outputs": [],
   "source": []
  },
  {
   "cell_type": "code",
   "execution_count": 8,
   "id": "4b445672",
   "metadata": {},
   "outputs": [
    {
     "data": {
      "text/plain": [
       "9"
      ]
     },
     "execution_count": 8,
     "metadata": {},
     "output_type": "execute_result"
    }
   ],
   "source": [
    "len(statsapi.schedule())"
   ]
  },
  {
   "cell_type": "code",
   "execution_count": 9,
   "id": "a6ef23a5",
   "metadata": {},
   "outputs": [
    {
     "data": {
      "text/plain": [
       "{'game_id': 662548,\n",
       " 'game_datetime': '2022-05-12T17:05:00Z',\n",
       " 'game_date': '2022-05-12',\n",
       " 'game_type': 'R',\n",
       " 'status': 'Final',\n",
       " 'away_name': 'New York Mets',\n",
       " 'home_name': 'Washington Nationals',\n",
       " 'away_id': 121,\n",
       " 'home_id': 120,\n",
       " 'doubleheader': 'N',\n",
       " 'game_num': 1,\n",
       " 'home_probable_pitcher': 'Joan Adon',\n",
       " 'away_probable_pitcher': 'Taijuan Walker',\n",
       " 'home_pitcher_note': '',\n",
       " 'away_pitcher_note': '',\n",
       " 'away_score': 4,\n",
       " 'home_score': 1,\n",
       " 'current_inning': 9,\n",
       " 'inning_state': 'Bottom',\n",
       " 'venue_id': 3309,\n",
       " 'venue_name': 'Nationals Park',\n",
       " 'winning_team': 'New York Mets',\n",
       " 'losing_team': 'Washington Nationals',\n",
       " 'winning_pitcher': 'Taijuan Walker',\n",
       " 'losing_pitcher': 'Joan Adon',\n",
       " 'save_pitcher': None,\n",
       " 'summary': '2022-05-12 - New York Mets (4) @ Washington Nationals (1) (Final)'}"
      ]
     },
     "execution_count": 9,
     "metadata": {},
     "output_type": "execute_result"
    }
   ],
   "source": [
    "statsapi.schedule()[0]"
   ]
  },
  {
   "cell_type": "code",
   "execution_count": 10,
   "id": "1bd8e09c",
   "metadata": {},
   "outputs": [
    {
     "data": {
      "text/plain": [
       "{'game_id': 662706,\n",
       " 'game_datetime': '2022-05-13T02:10:00Z',\n",
       " 'game_date': '2022-05-12',\n",
       " 'game_type': 'R',\n",
       " 'status': 'In Progress',\n",
       " 'away_name': 'Philadelphia Phillies',\n",
       " 'home_name': 'Los Angeles Dodgers',\n",
       " 'away_id': 143,\n",
       " 'home_id': 119,\n",
       " 'doubleheader': 'N',\n",
       " 'game_num': 1,\n",
       " 'home_probable_pitcher': 'Tyler Anderson',\n",
       " 'away_probable_pitcher': 'Zack Wheeler',\n",
       " 'home_pitcher_note': '',\n",
       " 'away_pitcher_note': '',\n",
       " 'away_score': 4,\n",
       " 'home_score': 1,\n",
       " 'current_inning': 4,\n",
       " 'inning_state': 'Top',\n",
       " 'venue_id': 22,\n",
       " 'venue_name': 'Dodger Stadium',\n",
       " 'summary': '2022-05-12 - Philadelphia Phillies (4) @ Los Angeles Dodgers (1) (Top of the 4th)'}"
      ]
     },
     "execution_count": 10,
     "metadata": {},
     "output_type": "execute_result"
    }
   ],
   "source": [
    "statsapi.schedule()[-1]"
   ]
  },
  {
   "cell_type": "code",
   "execution_count": 11,
   "id": "79114c16",
   "metadata": {},
   "outputs": [],
   "source": [
    "player = 'Anthony Gose'"
   ]
  },
  {
   "cell_type": "code",
   "execution_count": 12,
   "id": "c51edb50",
   "metadata": {},
   "outputs": [],
   "source": [
    "data = statsapi.lookup_player(player)"
   ]
  },
  {
   "cell_type": "code",
   "execution_count": 13,
   "id": "876a54e9",
   "metadata": {},
   "outputs": [
    {
     "data": {
      "text/plain": [
       "{'id': 543238,\n",
       " 'fullName': 'Anthony Gose',\n",
       " 'firstName': 'Anthony',\n",
       " 'lastName': 'Gose',\n",
       " 'primaryNumber': '26',\n",
       " 'currentTeam': {'id': 114},\n",
       " 'primaryPosition': {'code': '1', 'abbreviation': 'P'},\n",
       " 'useName': 'Anthony',\n",
       " 'boxscoreName': 'Gose',\n",
       " 'mlbDebutDate': '2012-07-17',\n",
       " 'nameFirstLast': 'Anthony Gose',\n",
       " 'firstLastName': 'Anthony Gose',\n",
       " 'lastFirstName': 'Gose, Anthony',\n",
       " 'lastInitName': 'Gose, A',\n",
       " 'initLastName': 'A Gose',\n",
       " 'fullFMLName': 'Anthony Robert Gose',\n",
       " 'fullLFMName': 'Gose, Anthony Robert'}"
      ]
     },
     "execution_count": 13,
     "metadata": {},
     "output_type": "execute_result"
    }
   ],
   "source": [
    "data[0]"
   ]
  },
  {
   "cell_type": "code",
   "execution_count": 14,
   "id": "6a83a171",
   "metadata": {},
   "outputs": [
    {
     "data": {
      "text/plain": [
       "{'id': 543238,\n",
       " 'first_name': 'Anthony',\n",
       " 'last_name': 'Gose',\n",
       " 'active': True,\n",
       " 'current_team': 'Cleveland Guardians',\n",
       " 'position': 'P',\n",
       " 'nickname': None,\n",
       " 'last_played': None,\n",
       " 'mlb_debut': '2012-07-17',\n",
       " 'bat_side': 'Left',\n",
       " 'pitch_hand': 'Left',\n",
       " 'stats': [{'type': 'season',\n",
       "   'group': 'fielding',\n",
       "   'season': '2022',\n",
       "   'stats': {'assists': 0,\n",
       "    'putOuts': 1,\n",
       "    'errors': 0,\n",
       "    'chances': 1,\n",
       "    'fielding': '1.000',\n",
       "    'position': {'code': '1',\n",
       "     'name': 'Pitcher',\n",
       "     'type': 'Pitcher',\n",
       "     'abbreviation': 'P'},\n",
       "    'rangeFactorPerGame': '0.10',\n",
       "    'rangeFactorPer9Inn': '1.00',\n",
       "    'innings': '9.1',\n",
       "    'games': 10,\n",
       "    'gamesStarted': 0,\n",
       "    'doublePlays': 0,\n",
       "    'triplePlays': 0,\n",
       "    'throwingErrors': 0}},\n",
       "  {'type': 'season',\n",
       "   'group': 'pitching',\n",
       "   'season': '2022',\n",
       "   'stats': {'gamesPlayed': 10,\n",
       "    'gamesStarted': 0,\n",
       "    'groundOuts': 5,\n",
       "    'airOuts': 9,\n",
       "    'runs': 7,\n",
       "    'doubles': 4,\n",
       "    'triples': 0,\n",
       "    'homeRuns': 2,\n",
       "    'strikeOuts': 13,\n",
       "    'baseOnBalls': 6,\n",
       "    'intentionalWalks': 0,\n",
       "    'hits': 7,\n",
       "    'hitByPitch': 1,\n",
       "    'avg': '.212',\n",
       "    'atBats': 33,\n",
       "    'obp': '.341',\n",
       "    'slg': '.515',\n",
       "    'ops': '.856',\n",
       "    'caughtStealing': 0,\n",
       "    'stolenBases': 0,\n",
       "    'stolenBasePercentage': '.---',\n",
       "    'groundIntoDoublePlay': 1,\n",
       "    'numberOfPitches': 179,\n",
       "    'era': '5.79',\n",
       "    'inningsPitched': '9.1',\n",
       "    'wins': 1,\n",
       "    'losses': 0,\n",
       "    'saves': 0,\n",
       "    'saveOpportunities': 1,\n",
       "    'holds': 0,\n",
       "    'blownSaves': 1,\n",
       "    'earnedRuns': 6,\n",
       "    'whip': '1.39',\n",
       "    'battersFaced': 41,\n",
       "    'outs': 28,\n",
       "    'gamesPitched': 10,\n",
       "    'completeGames': 0,\n",
       "    'shutouts': 0,\n",
       "    'strikes': 108,\n",
       "    'strikePercentage': '.600',\n",
       "    'hitBatsmen': 1,\n",
       "    'balks': 0,\n",
       "    'wildPitches': 2,\n",
       "    'pickoffs': 0,\n",
       "    'totalBases': 17,\n",
       "    'groundOutsToAirouts': '0.56',\n",
       "    'winPercentage': '1.000',\n",
       "    'pitchesPerInning': '19.18',\n",
       "    'gamesFinished': 1,\n",
       "    'strikeoutWalkRatio': '2.17',\n",
       "    'strikeoutsPer9Inn': '12.54',\n",
       "    'walksPer9Inn': '5.79',\n",
       "    'hitsPer9Inn': '6.75',\n",
       "    'runsScoredPer9': '6.75',\n",
       "    'homeRunsPer9': '1.93',\n",
       "    'inheritedRunners': 2,\n",
       "    'inheritedRunnersScored': 1,\n",
       "    'catchersInterference': 0,\n",
       "    'sacBunts': 0,\n",
       "    'sacFlies': 1}}]}"
      ]
     },
     "execution_count": 14,
     "metadata": {},
     "output_type": "execute_result"
    }
   ],
   "source": [
    "pid = statsapi.lookup_player(player)[0]['id']\n",
    "statsapi.player_stat_data(pid)"
   ]
  },
  {
   "cell_type": "code",
   "execution_count": 15,
   "id": "f2e8b9aa",
   "metadata": {},
   "outputs": [
    {
     "data": {
      "text/plain": [
       "\"\\nwhat are the batting averages for some of the top players top player \\nper team or top 3 players from dodgers, cubs, sox, angels, and a's\\n\""
      ]
     },
     "execution_count": 15,
     "metadata": {},
     "output_type": "execute_result"
    }
   ],
   "source": [
    "\"\"\"\n",
    "what are the batting averages for some of the top players top player \n",
    "per team or top 3 players from dodgers, cubs, sox, angels, and a's\n",
    "\"\"\""
   ]
  },
  {
   "cell_type": "code",
   "execution_count": 16,
   "id": "7d72f096",
   "metadata": {},
   "outputs": [],
   "source": [
    "team_idxs = [] #wth\n",
    "teams = []\n",
    "\n",
    "for idx in range(0, 1000):\n",
    "    try:\n",
    "        idx = str(idx).zfill(3)\n",
    "        data = statsapi.lookup_team(idx)[0]\n",
    "        name = data['name'].lower()\n",
    "        location = data['locationName'].lower()\n",
    "        if 'dogder' in name or 'angel' in name or 'cub' in name or 'sox' in name or 'oakland' in location:\n",
    "            teams.append(data)\n",
    "        team_idxs.append(idx)\n",
    "        if len(teams) == 6:\n",
    "            break\n",
    "    except Exception as exp:\n",
    "        None"
   ]
  },
  {
   "cell_type": "code",
   "execution_count": 17,
   "id": "4aa6235e",
   "metadata": {},
   "outputs": [
    {
     "data": {
      "text/plain": [
       "[{'id': 108,\n",
       "  'name': 'Los Angeles Angels',\n",
       "  'teamCode': 'ana',\n",
       "  'fileCode': 'ana',\n",
       "  'teamName': 'Angels',\n",
       "  'locationName': 'Anaheim',\n",
       "  'shortName': 'LA Angels'},\n",
       " {'id': 111,\n",
       "  'name': 'Boston Red Sox',\n",
       "  'teamCode': 'bos',\n",
       "  'fileCode': 'bos',\n",
       "  'teamName': 'Red Sox',\n",
       "  'locationName': 'Boston',\n",
       "  'shortName': 'Boston'},\n",
       " {'id': 112,\n",
       "  'name': 'Chicago Cubs',\n",
       "  'teamCode': 'chn',\n",
       "  'fileCode': 'chc',\n",
       "  'teamName': 'Cubs',\n",
       "  'locationName': 'Chicago',\n",
       "  'shortName': 'Chi Cubs'},\n",
       " {'id': 119,\n",
       "  'name': 'Los Angeles Dodgers',\n",
       "  'teamCode': 'lan',\n",
       "  'fileCode': 'la',\n",
       "  'teamName': 'Dodgers',\n",
       "  'locationName': 'Los Angeles',\n",
       "  'shortName': 'LA Dodgers'},\n",
       " {'id': 133,\n",
       "  'name': 'Oakland Athletics',\n",
       "  'teamCode': 'oak',\n",
       "  'fileCode': 'oak',\n",
       "  'teamName': 'Athletics',\n",
       "  'locationName': 'Oakland',\n",
       "  'shortName': 'Oakland'},\n",
       " {'id': 145,\n",
       "  'name': 'Chicago White Sox',\n",
       "  'teamCode': 'cha',\n",
       "  'fileCode': 'cws',\n",
       "  'teamName': 'White Sox',\n",
       "  'locationName': 'Chicago',\n",
       "  'shortName': 'Chi White Sox'}]"
      ]
     },
     "execution_count": 17,
     "metadata": {},
     "output_type": "execute_result"
    }
   ],
   "source": [
    "teams"
   ]
  },
  {
   "cell_type": "code",
   "execution_count": 18,
   "id": "5d03715f",
   "metadata": {},
   "outputs": [
    {
     "data": {
      "text/plain": [
       "'Rank Name                 Value\\n 1   Owen Miller          .333 \\n 2   Steven Kwan          .298 \\n 3   Jose Ramirez         .297 \\n 4   Myles Straw          .248 \\n 5   Amed Rosario         .240 \\n 6   Franmil Reyes        .210 \\n'"
      ]
     },
     "execution_count": 18,
     "metadata": {},
     "output_type": "execute_result"
    }
   ],
   "source": [
    "statsapi.team_leaders(114, 'avg')"
   ]
  },
  {
   "cell_type": "code",
   "execution_count": 19,
   "id": "e7de94d8",
   "metadata": {},
   "outputs": [],
   "source": [
    "def get_tings(team_id, scategory):\n",
    "    \"\"\"\n",
    "    it's ugly but it worx\n",
    "    \"\"\"\n",
    "    leaders = statsapi.team_leaders(team_id, scategory)\n",
    "\n",
    "    data = [\"\".join(item.split(\"\\n\")).strip(\" \") for item in leaders.split(\"  \") if item != \"\"][2:]\n",
    "    data\n",
    "\n",
    "    idx = 0\n",
    "    tings = {}\n",
    "    while idx != len(data):\n",
    "        tings[data[idx]] = data[idx + 1]\n",
    "        idx += 2\n",
    "\n",
    "    new_tings = {}\n",
    "\n",
    "    for whatever in tings.items():\n",
    "        new_tings[whatever[0]] = whatever[1].split(\" \")[0]\n",
    "        \n",
    "    return new_tings"
   ]
  },
  {
   "cell_type": "code",
   "execution_count": 21,
   "id": "bffc1deb",
   "metadata": {},
   "outputs": [
    {
     "ename": "IndexError",
     "evalue": "list index out of range",
     "output_type": "error",
     "traceback": [
      "\u001b[0;31m---------------------------------------------------------------------------\u001b[0m",
      "\u001b[0;31mIndexError\u001b[0m                                Traceback (most recent call last)",
      "\u001b[0;32m/var/folders/ry/gtypcvm50js8j8wlbz5z7h6m0000gn/T/ipykernel_76212/3470432264.py\u001b[0m in \u001b[0;36m<module>\u001b[0;34m\u001b[0m\n\u001b[1;32m      1\u001b[0m \u001b[0;32mfor\u001b[0m \u001b[0mteam\u001b[0m \u001b[0;32min\u001b[0m \u001b[0mteams\u001b[0m\u001b[0;34m:\u001b[0m\u001b[0;34m\u001b[0m\u001b[0;34m\u001b[0m\u001b[0m\n\u001b[1;32m      2\u001b[0m     \u001b[0mteam_id\u001b[0m \u001b[0;34m=\u001b[0m \u001b[0mteam\u001b[0m\u001b[0;34m[\u001b[0m\u001b[0;34m'id'\u001b[0m\u001b[0;34m]\u001b[0m\u001b[0;34m\u001b[0m\u001b[0;34m\u001b[0m\u001b[0m\n\u001b[0;32m----> 3\u001b[0;31m     \u001b[0mteam\u001b[0m\u001b[0;34m[\u001b[0m\u001b[0;34m'stolenBase_leaders'\u001b[0m\u001b[0;34m]\u001b[0m \u001b[0;34m=\u001b[0m \u001b[0mget_tings\u001b[0m\u001b[0;34m(\u001b[0m\u001b[0mteam_id\u001b[0m\u001b[0;34m,\u001b[0m \u001b[0;34m'stolenBases'\u001b[0m\u001b[0;34m)\u001b[0m\u001b[0;34m\u001b[0m\u001b[0;34m\u001b[0m\u001b[0m\n\u001b[0m\u001b[1;32m      4\u001b[0m     \u001b[0mteam\u001b[0m\u001b[0;34m[\u001b[0m\u001b[0;34m'avg_leaders'\u001b[0m\u001b[0;34m]\u001b[0m \u001b[0;34m=\u001b[0m \u001b[0mget_tings\u001b[0m\u001b[0;34m(\u001b[0m\u001b[0mteam_id\u001b[0m\u001b[0;34m,\u001b[0m \u001b[0;34m'avg'\u001b[0m\u001b[0;34m)\u001b[0m\u001b[0;34m\u001b[0m\u001b[0;34m\u001b[0m\u001b[0m\n",
      "\u001b[0;32m/var/folders/ry/gtypcvm50js8j8wlbz5z7h6m0000gn/T/ipykernel_76212/1486046660.py\u001b[0m in \u001b[0;36mget_tings\u001b[0;34m(team_id, scategory)\u001b[0m\n\u001b[1;32m     10\u001b[0m     \u001b[0mtings\u001b[0m \u001b[0;34m=\u001b[0m \u001b[0;34m{\u001b[0m\u001b[0;34m}\u001b[0m\u001b[0;34m\u001b[0m\u001b[0;34m\u001b[0m\u001b[0m\n\u001b[1;32m     11\u001b[0m     \u001b[0;32mwhile\u001b[0m \u001b[0midx\u001b[0m \u001b[0;34m!=\u001b[0m \u001b[0mlen\u001b[0m\u001b[0;34m(\u001b[0m\u001b[0mdata\u001b[0m\u001b[0;34m)\u001b[0m\u001b[0;34m:\u001b[0m\u001b[0;34m\u001b[0m\u001b[0;34m\u001b[0m\u001b[0m\n\u001b[0;32m---> 12\u001b[0;31m         \u001b[0mtings\u001b[0m\u001b[0;34m[\u001b[0m\u001b[0mdata\u001b[0m\u001b[0;34m[\u001b[0m\u001b[0midx\u001b[0m\u001b[0;34m]\u001b[0m\u001b[0;34m]\u001b[0m \u001b[0;34m=\u001b[0m \u001b[0mdata\u001b[0m\u001b[0;34m[\u001b[0m\u001b[0midx\u001b[0m \u001b[0;34m+\u001b[0m \u001b[0;36m1\u001b[0m\u001b[0;34m]\u001b[0m\u001b[0;34m\u001b[0m\u001b[0;34m\u001b[0m\u001b[0m\n\u001b[0m\u001b[1;32m     13\u001b[0m         \u001b[0midx\u001b[0m \u001b[0;34m+=\u001b[0m \u001b[0;36m2\u001b[0m\u001b[0;34m\u001b[0m\u001b[0;34m\u001b[0m\u001b[0m\n\u001b[1;32m     14\u001b[0m \u001b[0;34m\u001b[0m\u001b[0m\n",
      "\u001b[0;31mIndexError\u001b[0m: list index out of range"
     ]
    }
   ],
   "source": [
    "for team in teams:\n",
    "    team_id = team['id']\n",
    "    team['stolenBase_leaders'] = get_tings(team_id, 'stolenBases')\n",
    "    team['avg_leaders'] = get_tings(team_id, 'avg')"
   ]
  },
  {
   "cell_type": "code",
   "execution_count": null,
   "id": "f7fffd72",
   "metadata": {},
   "outputs": [],
   "source": [
    "teams"
   ]
  }
 ],
 "metadata": {
  "kernelspec": {
   "display_name": "Python 3 (ipykernel)",
   "language": "python",
   "name": "python3"
  },
  "language_info": {
   "codemirror_mode": {
    "name": "ipython",
    "version": 3
   },
   "file_extension": ".py",
   "mimetype": "text/x-python",
   "name": "python",
   "nbconvert_exporter": "python",
   "pygments_lexer": "ipython3",
   "version": "3.7.4"
  }
 },
 "nbformat": 4,
 "nbformat_minor": 5
}
