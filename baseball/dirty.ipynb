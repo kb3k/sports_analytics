{
 "cells": [
  {
   "cell_type": "code",
   "execution_count": 23,
   "id": "d2dae707",
   "metadata": {},
   "outputs": [],
   "source": [
    "import pyspark # 3.2.0\n",
    "from pyspark.context import SparkContext\n",
    "from pyspark.sql import SparkSession\n",
    "from pyspark.sql.functions import count, desc, col, \\\n",
    "session_window, when\n",
    "from pyspark.sql.types import StringType, TimestampType, \\\n",
    "StructType, StructField\n",
    "\n",
    "import psutil # 5.6.3\n",
    "import platform\n",
    "import os\n",
    "import multiprocessing\n",
    "\n",
    "from time import asctime\n",
    "\n",
    "import statsapi \n",
    "\n",
    "import boto3"
   ]
  },
  {
   "cell_type": "code",
   "execution_count": 2,
   "id": "22e636a9",
   "metadata": {},
   "outputs": [
    {
     "name": "stdout",
     "output_type": "stream",
     "text": [
      "approximate start time : Sat May 21 20:55:33 2022\n"
     ]
    }
   ],
   "source": [
    "MAX_MEMORY = '15G'\n",
    "sesh_duration = \"20 minutes\"\n",
    "\n",
    "print(f\"approximate start time : {asctime()}\")"
   ]
  },
  {
   "cell_type": "code",
   "execution_count": 3,
   "id": "163d5d95",
   "metadata": {},
   "outputs": [],
   "source": [
    "conf = pyspark.SparkConf().setMaster(\"local[*]\") \\\n",
    "        .set('spark.executor.heartbeatInterval', 10000) \\\n",
    "        .set('spark.network.timeout', 10000) \\\n",
    "        .set(\"spark.core.connection.ack.wait.timeout\", \"3600\") \\\n",
    "        .set(\"spark.executor.memory\", MAX_MEMORY) \\\n",
    "        .set(\"spark.driver.memory\", MAX_MEMORY)"
   ]
  },
  {
   "cell_type": "code",
   "execution_count": 4,
   "id": "277157bf",
   "metadata": {},
   "outputs": [
    {
     "name": "stderr",
     "output_type": "stream",
     "text": [
      "Using Spark's default log4j profile: org/apache/spark/log4j-defaults.properties\n",
      "Setting default log level to \"WARN\".\n",
      "To adjust logging level use sc.setLogLevel(newLevel). For SparkR, use setLogLevel(newLevel).\n",
      "22/05/21 20:55:39 WARN NativeCodeLoader: Unable to load native-hadoop library for your platform... using builtin-java classes where applicable\n"
     ]
    },
    {
     "name": "stdout",
     "output_type": "stream",
     "text": [
      "CPU times: user 35.1 ms, sys: 31.4 ms, total: 66.5 ms\n",
      "Wall time: 7.81 s\n"
     ]
    }
   ],
   "source": [
    "%%time\n",
    "sc = SparkContext(conf=conf)\n",
    "sc.setLogLevel('WARN')"
   ]
  },
  {
   "cell_type": "code",
   "execution_count": 5,
   "id": "bd697d4d",
   "metadata": {},
   "outputs": [
    {
     "name": "stdout",
     "output_type": "stream",
     "text": [
      "======================================== System Information ========================================\n",
      "System: Darwin\n",
      "Release: 21.4.0\n",
      "Version: Darwin Kernel Version 21.4.0: Fri Mar 18 00:45:05 PDT 2022; root:xnu-8020.101.4~15/RELEASE_X86_64\n",
      "Machine: x86_64\n",
      "Processor: i386\n",
      "Platform: Darwin-21.4.0-x86_64-i386-64bit\n",
      "RAM: 16 GB\n",
      "Cores: 4\n",
      "======================================== Java, Python, Spark Versions ==============================\n",
      "java version \"1.8.0_311\"\n",
      "Java(TM) SE Runtime Environment (build 1.8.0_311-b11)\n",
      "Java HotSpot(TM) 64-Bit Server VM (build 25.311-b11, mixed mode)\n",
      "-----\n",
      "Python 3.7.4\n",
      "-----\n",
      "spark version 3.2.0\n"
     ]
    }
   ],
   "source": [
    "print(\"=\"*40, \"System Information\", \"=\"*40)\n",
    "uname = platform.uname()\n",
    "print(f\"System: {uname.system}\")\n",
    "print(f\"Release: {uname.release}\")\n",
    "print(f\"Version: {uname.version}\")\n",
    "print(f\"Machine: {uname.machine}\")\n",
    "print(f\"Processor: {uname.processor}\")\n",
    "print(f\"Platform: {platform.platform()}\")\n",
    "print(f\"RAM: {str(round(psutil.virtual_memory().total / (1024.0 ** 3)))} GB\")\n",
    "print(f\"Cores: {multiprocessing.cpu_count()}\")\n",
    "\n",
    "print(\"=\"*40, \"Java, Python, Spark Versions\", \"=\"*30)\n",
    "\n",
    "# java version\n",
    "!java -version\n",
    "\n",
    "# python version\n",
    "print(\"-\"*5)\n",
    "!python --version\n",
    "\n",
    "# spark version\n",
    "print(\"-\"*5)\n",
    "print(\"spark version {}\".format(sc.version))"
   ]
  },
  {
   "cell_type": "code",
   "execution_count": 6,
   "id": "bf6f9aaf",
   "metadata": {},
   "outputs": [
    {
     "name": "stdout",
     "output_type": "stream",
     "text": [
      "CPU times: user 3 µs, sys: 1e+03 ns, total: 4 µs\n",
      "Wall time: 9.06 µs\n"
     ]
    }
   ],
   "source": [
    "%%time\n",
    "def init_spark():\n",
    "    spark = SparkSession \\\n",
    "        .builder \\\n",
    "        .appName(\"baseball_is_not_boring\") \\\n",
    "        .config(conf=conf) \\\n",
    "        .getOrCreate()\n",
    "    return spark"
   ]
  },
  {
   "cell_type": "code",
   "execution_count": 7,
   "id": "352e5dc7",
   "metadata": {},
   "outputs": [
    {
     "name": "stdout",
     "output_type": "stream",
     "text": [
      "CPU times: user 57 µs, sys: 66 µs, total: 123 µs\n",
      "Wall time: 129 µs\n"
     ]
    }
   ],
   "source": [
    "%%time\n",
    "schemer = StructType([StructField('name', StringType(), True),\n",
    "                     StructField('name', TimestampType(), True)\n",
    "                     ])"
   ]
  },
  {
   "cell_type": "code",
   "execution_count": null,
   "id": "f31596c5",
   "metadata": {},
   "outputs": [],
   "source": []
  },
  {
   "cell_type": "code",
   "execution_count": null,
   "id": "64efcbb1",
   "metadata": {},
   "outputs": [],
   "source": []
  },
  {
   "cell_type": "code",
   "execution_count": 8,
   "id": "e4f1ff76",
   "metadata": {},
   "outputs": [
    {
     "data": {
      "text/plain": [
       "16"
      ]
     },
     "execution_count": 8,
     "metadata": {},
     "output_type": "execute_result"
    }
   ],
   "source": [
    "len(statsapi.schedule())"
   ]
  },
  {
   "cell_type": "code",
   "execution_count": 9,
   "id": "4a7e616d",
   "metadata": {},
   "outputs": [
    {
     "data": {
      "text/plain": [
       "{'game_id': 661289,\n",
       " 'game_datetime': '2022-05-21T17:05:00Z',\n",
       " 'game_date': '2022-05-21',\n",
       " 'game_type': 'R',\n",
       " 'status': 'Final',\n",
       " 'away_name': 'Chicago White Sox',\n",
       " 'home_name': 'New York Yankees',\n",
       " 'away_id': 145,\n",
       " 'home_id': 147,\n",
       " 'doubleheader': 'N',\n",
       " 'game_num': 1,\n",
       " 'home_probable_pitcher': 'Nestor Cortes',\n",
       " 'away_probable_pitcher': 'Dallas Keuchel',\n",
       " 'home_pitcher_note': '',\n",
       " 'away_pitcher_note': '',\n",
       " 'away_score': 5,\n",
       " 'home_score': 7,\n",
       " 'current_inning': 9,\n",
       " 'inning_state': 'Top',\n",
       " 'venue_id': 3313,\n",
       " 'venue_name': 'Yankee Stadium',\n",
       " 'winning_team': 'New York Yankees',\n",
       " 'losing_team': 'Chicago White Sox',\n",
       " 'winning_pitcher': 'Nestor Cortes',\n",
       " 'losing_pitcher': 'Dallas Keuchel',\n",
       " 'save_pitcher': 'Clay Holmes',\n",
       " 'summary': '2022-05-21 - Chicago White Sox (5) @ New York Yankees (7) (Final)'}"
      ]
     },
     "execution_count": 9,
     "metadata": {},
     "output_type": "execute_result"
    }
   ],
   "source": [
    "statsapi.schedule()[0]"
   ]
  },
  {
   "cell_type": "code",
   "execution_count": 10,
   "id": "3e2a4abf",
   "metadata": {},
   "outputs": [
    {
     "data": {
      "text/plain": [
       "{'game_id': 663123,\n",
       " 'game_datetime': '2022-05-21T22:10:00Z',\n",
       " 'game_date': '2022-05-21',\n",
       " 'game_type': 'R',\n",
       " 'status': 'Postponed',\n",
       " 'away_name': 'Detroit Tigers',\n",
       " 'home_name': 'Cleveland Guardians',\n",
       " 'away_id': 116,\n",
       " 'home_id': 114,\n",
       " 'doubleheader': 'N',\n",
       " 'game_num': 1,\n",
       " 'home_probable_pitcher': 'Shane Bieber',\n",
       " 'away_probable_pitcher': 'Alex Faedo',\n",
       " 'home_pitcher_note': '',\n",
       " 'away_pitcher_note': '',\n",
       " 'away_score': '0',\n",
       " 'home_score': '0',\n",
       " 'current_inning': '',\n",
       " 'inning_state': '',\n",
       " 'venue_id': 5,\n",
       " 'venue_name': 'Progressive Field',\n",
       " 'summary': '2022-05-21 - Detroit Tigers @ Cleveland Guardians (Postponed)'}"
      ]
     },
     "execution_count": 10,
     "metadata": {},
     "output_type": "execute_result"
    }
   ],
   "source": [
    "statsapi.schedule()[-1]"
   ]
  },
  {
   "cell_type": "code",
   "execution_count": 11,
   "id": "94ef74c3",
   "metadata": {},
   "outputs": [],
   "source": [
    "player = 'Anthony Gose'"
   ]
  },
  {
   "cell_type": "code",
   "execution_count": 12,
   "id": "ca67b5c9",
   "metadata": {},
   "outputs": [],
   "source": [
    "data = statsapi.lookup_player(player)"
   ]
  },
  {
   "cell_type": "code",
   "execution_count": 13,
   "id": "d0098aaf",
   "metadata": {},
   "outputs": [
    {
     "data": {
      "text/plain": [
       "{'id': 543238,\n",
       " 'fullName': 'Anthony Gose',\n",
       " 'firstName': 'Anthony',\n",
       " 'lastName': 'Gose',\n",
       " 'primaryNumber': '26',\n",
       " 'currentTeam': {'id': 114},\n",
       " 'primaryPosition': {'code': '1', 'abbreviation': 'P'},\n",
       " 'useName': 'Anthony',\n",
       " 'boxscoreName': 'Gose',\n",
       " 'mlbDebutDate': '2012-07-17',\n",
       " 'nameFirstLast': 'Anthony Gose',\n",
       " 'firstLastName': 'Anthony Gose',\n",
       " 'lastFirstName': 'Gose, Anthony',\n",
       " 'lastInitName': 'Gose, A',\n",
       " 'initLastName': 'A Gose',\n",
       " 'fullFMLName': 'Anthony Robert Gose',\n",
       " 'fullLFMName': 'Gose, Anthony Robert'}"
      ]
     },
     "execution_count": 13,
     "metadata": {},
     "output_type": "execute_result"
    }
   ],
   "source": [
    "data[0]"
   ]
  },
  {
   "cell_type": "code",
   "execution_count": 14,
   "id": "176b7a4f",
   "metadata": {},
   "outputs": [
    {
     "data": {
      "text/plain": [
       "{'id': 543238,\n",
       " 'first_name': 'Anthony',\n",
       " 'last_name': 'Gose',\n",
       " 'active': True,\n",
       " 'current_team': 'Cleveland Guardians',\n",
       " 'position': 'P',\n",
       " 'nickname': None,\n",
       " 'last_played': None,\n",
       " 'mlb_debut': '2012-07-17',\n",
       " 'bat_side': 'Left',\n",
       " 'pitch_hand': 'Left',\n",
       " 'stats': [{'type': 'season',\n",
       "   'group': 'pitching',\n",
       "   'season': '2022',\n",
       "   'stats': {'gamesPlayed': 11,\n",
       "    'gamesStarted': 0,\n",
       "    'groundOuts': 5,\n",
       "    'airOuts': 11,\n",
       "    'runs': 7,\n",
       "    'doubles': 4,\n",
       "    'triples': 0,\n",
       "    'homeRuns': 2,\n",
       "    'strikeOuts': 14,\n",
       "    'baseOnBalls': 6,\n",
       "    'intentionalWalks': 0,\n",
       "    'hits': 8,\n",
       "    'hitByPitch': 1,\n",
       "    'avg': '.216',\n",
       "    'atBats': 37,\n",
       "    'obp': '.333',\n",
       "    'slg': '.486',\n",
       "    'ops': '.819',\n",
       "    'caughtStealing': 0,\n",
       "    'stolenBases': 0,\n",
       "    'stolenBasePercentage': '.---',\n",
       "    'groundIntoDoublePlay': 1,\n",
       "    'numberOfPitches': 188,\n",
       "    'era': '5.23',\n",
       "    'inningsPitched': '10.1',\n",
       "    'wins': 1,\n",
       "    'losses': 0,\n",
       "    'saves': 0,\n",
       "    'saveOpportunities': 1,\n",
       "    'holds': 0,\n",
       "    'blownSaves': 1,\n",
       "    'earnedRuns': 6,\n",
       "    'whip': '1.35',\n",
       "    'battersFaced': 45,\n",
       "    'outs': 31,\n",
       "    'gamesPitched': 11,\n",
       "    'completeGames': 0,\n",
       "    'shutouts': 0,\n",
       "    'strikes': 115,\n",
       "    'strikePercentage': '.610',\n",
       "    'hitBatsmen': 1,\n",
       "    'balks': 0,\n",
       "    'wildPitches': 2,\n",
       "    'pickoffs': 0,\n",
       "    'totalBases': 18,\n",
       "    'groundOutsToAirouts': '0.45',\n",
       "    'winPercentage': '1.000',\n",
       "    'pitchesPerInning': '18.19',\n",
       "    'gamesFinished': 1,\n",
       "    'strikeoutWalkRatio': '2.33',\n",
       "    'strikeoutsPer9Inn': '12.19',\n",
       "    'walksPer9Inn': '5.23',\n",
       "    'hitsPer9Inn': '6.97',\n",
       "    'runsScoredPer9': '6.10',\n",
       "    'homeRunsPer9': '1.74',\n",
       "    'inheritedRunners': 2,\n",
       "    'inheritedRunnersScored': 1,\n",
       "    'catchersInterference': 0,\n",
       "    'sacBunts': 0,\n",
       "    'sacFlies': 1}},\n",
       "  {'type': 'season',\n",
       "   'group': 'fielding',\n",
       "   'season': '2022',\n",
       "   'stats': {'assists': 0,\n",
       "    'putOuts': 1,\n",
       "    'errors': 0,\n",
       "    'chances': 1,\n",
       "    'fielding': '1.000',\n",
       "    'position': {'code': '1',\n",
       "     'name': 'Pitcher',\n",
       "     'type': 'Pitcher',\n",
       "     'abbreviation': 'P'},\n",
       "    'rangeFactorPerGame': '0.09',\n",
       "    'rangeFactorPer9Inn': '0.90',\n",
       "    'innings': '10.1',\n",
       "    'games': 11,\n",
       "    'gamesStarted': 0,\n",
       "    'doublePlays': 0,\n",
       "    'triplePlays': 0,\n",
       "    'throwingErrors': 0}}]}"
      ]
     },
     "execution_count": 14,
     "metadata": {},
     "output_type": "execute_result"
    }
   ],
   "source": [
    "pid = statsapi.lookup_player(player)[0]['id']\n",
    "statsapi.player_stat_data(pid)"
   ]
  },
  {
   "cell_type": "code",
   "execution_count": 15,
   "id": "5d7c1033",
   "metadata": {},
   "outputs": [
    {
     "data": {
      "text/plain": [
       "\"\\nwhat are the batting averages for some of the top players top player \\nper team or top 3 players from dodgers, cubs, sox, angels, and a's\\n\""
      ]
     },
     "execution_count": 15,
     "metadata": {},
     "output_type": "execute_result"
    }
   ],
   "source": [
    "\"\"\"\n",
    "what are the batting averages for some of the top players top player \n",
    "per team or top 3 players from dodgers, cubs, sox, angels, and a's\n",
    "\"\"\""
   ]
  },
  {
   "cell_type": "code",
   "execution_count": 16,
   "id": "4d872146",
   "metadata": {},
   "outputs": [],
   "source": [
    "team_idxs = [] #wth\n",
    "teams = []\n",
    "\n",
    "for idx in range(0, 1000):\n",
    "    try:\n",
    "        idx = str(idx).zfill(3)\n",
    "        data = statsapi.lookup_team(idx)[0]\n",
    "        name = data['name'].lower()\n",
    "        location = data['locationName'].lower()\n",
    "        if 'dogder' in name or 'angel' in name or 'cub' in name or 'sox' in name or 'oakland' in location:\n",
    "            teams.append(data)\n",
    "        team_idxs.append(idx)\n",
    "        if len(teams) == 6:\n",
    "            break\n",
    "    except Exception as exp:\n",
    "        None"
   ]
  },
  {
   "cell_type": "code",
   "execution_count": 17,
   "id": "50dc1f05",
   "metadata": {},
   "outputs": [
    {
     "data": {
      "text/plain": [
       "[{'id': 108,\n",
       "  'name': 'Los Angeles Angels',\n",
       "  'teamCode': 'ana',\n",
       "  'fileCode': 'ana',\n",
       "  'teamName': 'Angels',\n",
       "  'locationName': 'Anaheim',\n",
       "  'shortName': 'LA Angels'},\n",
       " {'id': 111,\n",
       "  'name': 'Boston Red Sox',\n",
       "  'teamCode': 'bos',\n",
       "  'fileCode': 'bos',\n",
       "  'teamName': 'Red Sox',\n",
       "  'locationName': 'Boston',\n",
       "  'shortName': 'Boston'},\n",
       " {'id': 112,\n",
       "  'name': 'Chicago Cubs',\n",
       "  'teamCode': 'chn',\n",
       "  'fileCode': 'chc',\n",
       "  'teamName': 'Cubs',\n",
       "  'locationName': 'Chicago',\n",
       "  'shortName': 'Chi Cubs'},\n",
       " {'id': 119,\n",
       "  'name': 'Los Angeles Dodgers',\n",
       "  'teamCode': 'lan',\n",
       "  'fileCode': 'la',\n",
       "  'teamName': 'Dodgers',\n",
       "  'locationName': 'Los Angeles',\n",
       "  'shortName': 'LA Dodgers'},\n",
       " {'id': 133,\n",
       "  'name': 'Oakland Athletics',\n",
       "  'teamCode': 'oak',\n",
       "  'fileCode': 'oak',\n",
       "  'teamName': 'Athletics',\n",
       "  'locationName': 'Oakland',\n",
       "  'shortName': 'Oakland'},\n",
       " {'id': 145,\n",
       "  'name': 'Chicago White Sox',\n",
       "  'teamCode': 'cha',\n",
       "  'fileCode': 'cws',\n",
       "  'teamName': 'White Sox',\n",
       "  'locationName': 'Chicago',\n",
       "  'shortName': 'Chi White Sox'}]"
      ]
     },
     "execution_count": 17,
     "metadata": {},
     "output_type": "execute_result"
    }
   ],
   "source": [
    "teams"
   ]
  },
  {
   "cell_type": "code",
   "execution_count": 18,
   "id": "a5960bca",
   "metadata": {},
   "outputs": [
    {
     "data": {
      "text/plain": [
       "'Rank Name                 Value\\n 1   Jose Ramirez         .287 \\n 2   Owen Miller          .286 \\n 3   Steven Kwan          .265 \\n 4   Myles Straw          .254 \\n 5   Amed Rosario         .242 \\n 6   Franmil Reyes        .205 \\n'"
      ]
     },
     "execution_count": 18,
     "metadata": {},
     "output_type": "execute_result"
    }
   ],
   "source": [
    "statsapi.team_leaders(114, 'avg')"
   ]
  },
  {
   "cell_type": "code",
   "execution_count": 19,
   "id": "de6dbc3d",
   "metadata": {},
   "outputs": [],
   "source": [
    "def get_tings(team_id, scategory):\n",
    "    \"\"\"\n",
    "    it's ugly but it worx\n",
    "    \"\"\"\n",
    "    leaders = statsapi.team_leaders(team_id, scategory)\n",
    "\n",
    "    data = [\"\".join(item.split(\"\\n\")).strip(\" \") for item in leaders.split(\"  \") if item != \"\"][2:]\n",
    "    data\n",
    "\n",
    "    idx = 0\n",
    "    tings = {}\n",
    "    while idx != len(data):\n",
    "        tings[data[idx]] = data[idx + 1]\n",
    "        idx += 2\n",
    "\n",
    "    new_tings = {}\n",
    "\n",
    "    for whatever in tings.items():\n",
    "        new_tings[whatever[0]] = whatever[1].split(\" \")[0]\n",
    "        \n",
    "    return new_tings"
   ]
  },
  {
   "cell_type": "code",
   "execution_count": 79,
   "id": "b9bab2ac",
   "metadata": {},
   "outputs": [],
   "source": [
    "def intellect(team_id):\n",
    "    \"\"\"\n",
    "    \"Team\": \"cubs\"\n",
    "    \"batting average leaders\": {\n",
    "    }\n",
    "    \n",
    "    }\n",
    "\n",
    "    \"\"\"\n",
    "    results = statsapi.team_leaders(team_id, 'stolenBases')\n",
    "    cleaner_results = [item.replace(\"\\n\", \"\").strip(\" \") for item in results.split(\"  \") if item != \"\"]\n",
    "    cleaner_results = cleaner_results[1:len(cleaner_results)-1]\n",
    "    cleaner_results[0] = 1\n",
    "    idx = 0\n",
    "    sB_leaders = {}\n",
    "    while idx < len(cleaner_results):\n",
    "        name = cleaner_results[idx + 1]\n",
    "        value = cleaner_results[idx + 2]\n",
    "        sB_leaders[name] = value\n",
    "        idx += 3\n",
    "    return sB_leaders\n",
    "    "
   ]
  },
  {
   "cell_type": "code",
   "execution_count": 80,
   "id": "53354d6d",
   "metadata": {},
   "outputs": [],
   "source": [
    "for team in teams:\n",
    "    team_id = team['id']\n",
    "    team['stolenBase_leaders'] = intellect(team_id)\n",
    "    team['avg_leaders'] = get_tings(team_id, 'avg')"
   ]
  },
  {
   "cell_type": "code",
   "execution_count": 81,
   "id": "19cb9ee3",
   "metadata": {},
   "outputs": [
    {
     "data": {
      "text/plain": [
       "[{'id': 108,\n",
       "  'name': 'Los Angeles Angels',\n",
       "  'teamCode': 'ana',\n",
       "  'fileCode': 'ana',\n",
       "  'teamName': 'Angels',\n",
       "  'locationName': 'Anaheim',\n",
       "  'shortName': 'LA Angels',\n",
       "  'avg_leaders': {'Taylor Ward': '.370',\n",
       "   'Mike Trout': '.313',\n",
       "   'Brandon Marsh': '.270',\n",
       "   'Shohei Ohtani': '.252',\n",
       "   'Anthony Rendon': '.241',\n",
       "   'Jared Walsh': '.239'},\n",
       "  'stolenBase_leaders': {'Shohei Ohtani': '6',\n",
       "   'Andrew Velazquez': '6',\n",
       "   'Brandon Marsh': '3',\n",
       "   'Tyler Wade': '3',\n",
       "   'Anthony Rendon': '2',\n",
       "   'Jo Adell': '1',\n",
       "   'Jack Mayfield': '1',\n",
       "   'Taylor Ward': '1'}},\n",
       " {'id': 111,\n",
       "  'name': 'Boston Red Sox',\n",
       "  'teamCode': 'bos',\n",
       "  'fileCode': 'bos',\n",
       "  'teamName': 'Red Sox',\n",
       "  'locationName': 'Boston',\n",
       "  'shortName': 'Boston',\n",
       "  'avg_leaders': {'J.D. Martinez': '.349',\n",
       "   'Rafael Devers': '.337',\n",
       "   'Xander Bogaerts': '.331',\n",
       "   'Trevor Story': '.226',\n",
       "   'Alex Verdugo': '.214',\n",
       "   'Jackie Bradley Jr.': '.193',\n",
       "   'Enrique Hernandez': '.188'},\n",
       "  'stolenBase_leaders': {'Trevor Story': '5',\n",
       "   'Xander Bogaerts': '2',\n",
       "   'Christian Arroyo': '1',\n",
       "   'Jackie Bradley Jr.': '1',\n",
       "   'Rafael Devers': '1'}},\n",
       " {'id': 112,\n",
       "  'name': 'Chicago Cubs',\n",
       "  'teamCode': 'chn',\n",
       "  'fileCode': 'chc',\n",
       "  'teamName': 'Cubs',\n",
       "  'locationName': 'Chicago',\n",
       "  'shortName': 'Chi Cubs',\n",
       "  'avg_leaders': {'Ian Happ': '.269',\n",
       "   'Willson Contreras': '.258',\n",
       "   'Seiya Suzuki': '.246',\n",
       "   'Frank Schwindel': '.222',\n",
       "   'Patrick Wisdom': '.208'},\n",
       "  'stolenBase_leaders': {'Jonathan Villar': '3',\n",
       "   'Ian Happ': '2',\n",
       "   'Nico Hoerner': '2',\n",
       "   'Rafael Ortega': '2',\n",
       "   'Willson Contreras': '1',\n",
       "   'Jason Heyward': '1',\n",
       "   'Nick Madrigal': '1',\n",
       "   'Christopher Morel': '1',\n",
       "   'Andrelton Simmons': '1',\n",
       "   'Seiya Suzuki': '1'}},\n",
       " {'id': 119,\n",
       "  'name': 'Los Angeles Dodgers',\n",
       "  'teamCode': 'lan',\n",
       "  'fileCode': 'la',\n",
       "  'teamName': 'Dodgers',\n",
       "  'locationName': 'Los Angeles',\n",
       "  'shortName': 'LA Dodgers',\n",
       "  'avg_leaders': {'Freddie Freeman': '.311',\n",
       "   'Trea Turner': '.280',\n",
       "   'Mookie Betts': '.273',\n",
       "   'Gavin Lux': '.262',\n",
       "   'Chris Taylor': '.240',\n",
       "   'Justin Turner': '.215',\n",
       "   'Cody Bellinger': '.214',\n",
       "   'Max Muncy': '.161'},\n",
       "  'stolenBase_leaders': {'Trea Turner': '8',\n",
       "   'Cody Bellinger': '4',\n",
       "   'Mookie Betts': '3',\n",
       "   'Freddie Freeman': '3',\n",
       "   'Chris Taylor': '3',\n",
       "   'Gavin Lux': '2'}},\n",
       " {'id': 133,\n",
       "  'name': 'Oakland Athletics',\n",
       "  'teamCode': 'oak',\n",
       "  'fileCode': 'oak',\n",
       "  'teamName': 'Athletics',\n",
       "  'locationName': 'Oakland',\n",
       "  'shortName': 'Oakland',\n",
       "  'avg_leaders': {'Sheldon Neuse': '.263',\n",
       "   'Elvis Andrus': '.222',\n",
       "   'Tony Kemp': '.210',\n",
       "   'Sean Murphy': '.196',\n",
       "   'Seth Brown': '.193'},\n",
       "  'stolenBase_leaders': {'Sheldon Neuse': '4',\n",
       "   'Seth Brown': '3',\n",
       "   'Tony Kemp': '3',\n",
       "   'Elvis Andrus': '2',\n",
       "   'Christian Bethancourt': '2',\n",
       "   'Ramon Laureano': '2',\n",
       "   'Chad Pinder': '2',\n",
       "   'Stephen Piscotty': '2',\n",
       "   'Kevin Smith': '2',\n",
       "   'Nick Allen': '1',\n",
       "   'Luis Barrera': '1',\n",
       "   'Jed Lowrie': '1'}},\n",
       " {'id': 145,\n",
       "  'name': 'Chicago White Sox',\n",
       "  'teamCode': 'cha',\n",
       "  'fileCode': 'cws',\n",
       "  'teamName': 'White Sox',\n",
       "  'locationName': 'Chicago',\n",
       "  'shortName': 'Chi White Sox',\n",
       "  'avg_leaders': {'Tim Anderson': '.350',\n",
       "   'Luis Robert': '.297',\n",
       "   'Jose Abreu': '.207',\n",
       "   'Yasmani Grandal': '.185'},\n",
       "  'stolenBase_leaders': {'Tim Anderson': '7',\n",
       "   'Luis Robert': '6',\n",
       "   'Adam Engel': '5',\n",
       "   'Leury Garcia': '1',\n",
       "   'Yasmani Grandal': '1',\n",
       "   'AJ Pollock': '1'}}]"
      ]
     },
     "execution_count": 81,
     "metadata": {},
     "output_type": "execute_result"
    }
   ],
   "source": [
    "teams"
   ]
  },
  {
   "cell_type": "code",
   "execution_count": 26,
   "id": "e758c7b7",
   "metadata": {},
   "outputs": [],
   "source": [
    "s3 = boto3.resource('s3')"
   ]
  },
  {
   "cell_type": "code",
   "execution_count": 28,
   "id": "946526a9",
   "metadata": {},
   "outputs": [
    {
     "data": {
      "text/plain": [
       "s3.Bucket(name='the-bucket-with-the-things')"
      ]
     },
     "execution_count": 28,
     "metadata": {},
     "output_type": "execute_result"
    }
   ],
   "source": [
    "s3.create_bucket(Bucket='the-bucket-with-the-things', CreateBucketConfiguration={\n",
    "    'LocationConstraint': 'us-west-1'})"
   ]
  },
  {
   "cell_type": "code",
   "execution_count": 34,
   "id": "77e5dae8",
   "metadata": {},
   "outputs": [],
   "source": [
    "s3 = boto3.client('s3')\n",
    "response = s3.list_buckets()"
   ]
  },
  {
   "cell_type": "code",
   "execution_count": 35,
   "id": "182510e7",
   "metadata": {},
   "outputs": [
    {
     "name": "stdout",
     "output_type": "stream",
     "text": [
      "Existing buckets:\n",
      "  logs.radchicago.com\n",
      "  radchicago.com\n",
      "  the-bucket-with-the-things\n",
      "  www.radchicago.com\n"
     ]
    }
   ],
   "source": [
    "# Output the bucket names\n",
    "print('Existing buckets:')\n",
    "for bucket in response['Buckets']:\n",
    "    print(f'  {bucket[\"Name\"]}')"
   ]
  },
  {
   "cell_type": "code",
   "execution_count": 91,
   "id": "498271e5",
   "metadata": {},
   "outputs": [
    {
     "name": "stdout",
     "output_type": "stream",
     "text": [
      "File Uploaded Successfully\n"
     ]
    }
   ],
   "source": [
    "#Creating S3 Resource From the Session.\n",
    "\n",
    "session = boto3.Session()\n",
    "\n",
    "s3 = session.resource('s3')\n",
    "\n",
    "ts = asctime().replace(\" \", \"\")\n",
    "\n",
    "file_name = f\"stats_{ts}.txt\"\n",
    "\n",
    "object = s3.Object('the-bucket-with-the-things', file_name)\n",
    "\n",
    "result = object.put(Body=str(teams))\n",
    "\n",
    "res = result.get('ResponseMetadata')\n",
    "\n",
    "if res.get('HTTPStatusCode') == 200:\n",
    "    print('File Uploaded Successfully')\n",
    "else:\n",
    "    print('File Not Uploaded')"
   ]
  }
 ],
 "metadata": {
  "kernelspec": {
   "display_name": "Python 3 (ipykernel)",
   "language": "python",
   "name": "python3"
  },
  "language_info": {
   "codemirror_mode": {
    "name": "ipython",
    "version": 3
   },
   "file_extension": ".py",
   "mimetype": "text/x-python",
   "name": "python",
   "nbconvert_exporter": "python",
   "pygments_lexer": "ipython3",
   "version": "3.7.4"
  }
 },
 "nbformat": 4,
 "nbformat_minor": 5
}
